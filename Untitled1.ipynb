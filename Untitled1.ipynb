{
 "metadata": {
  "name": "",
  "signature": "sha256:8bccce218e93b51107b79a4b9d37c9c74125f38e62096e68307517c62b805ef4"
 },
 "nbformat": 3,
 "nbformat_minor": 0,
 "worksheets": [
  {
   "cells": [
    {
     "cell_type": "code",
     "collapsed": false,
     "input": [
      "ssh bitnami@colab-sbx-218.oit.duke.edu\n",
      "r7Concanca\n",
      "ls\n",
      "cd\n",
      "sta-663-Layla-Liu\n",
      "git status\n",
      "git add\n",
      "git commit -m \"xxx\"\n",
      "git push"
     ],
     "language": "python",
     "metadata": {},
     "outputs": []
    },
    {
     "cell_type": "code",
     "collapsed": false,
     "input": [
      "!cp -r "
     ],
     "language": "python",
     "metadata": {},
     "outputs": []
    }
   ],
   "metadata": {}
  }
 ]
}