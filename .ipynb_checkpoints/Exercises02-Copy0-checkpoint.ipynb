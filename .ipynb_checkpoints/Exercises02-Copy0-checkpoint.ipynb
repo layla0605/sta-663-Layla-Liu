{
 "metadata": {
  "name": "",
  "signature": "sha256:685b0286b27b4717f8db24d59d49e57f4f52f60cbf2d2218b2ace01ea28c41ec"
 },
 "nbformat": 3,
 "nbformat_minor": 0,
 "worksheets": [
  {
   "cells": [
    {
     "cell_type": "markdown",
     "metadata": {},
     "source": [
      "Computer lab 02\n",
      "----\n",
      "\n",
      "These exercises provide more practice in data manipulation and working with numpy arrays."
     ]
    },
    {
     "cell_type": "code",
     "collapsed": false,
     "input": [
      "import os\n",
      "import sys\n",
      "import glob\n",
      "import matplotlib.pyplot as plt\n",
      "import numpy as np\n",
      "import pandas as pd\n",
      "%matplotlib inline\n",
      "%precision 4\n",
      "plt.style.use('ggplot')"
     ],
     "language": "python",
     "metadata": {},
     "outputs": [],
     "prompt_number": 7
    },
    {
     "cell_type": "markdown",
     "metadata": {},
     "source": [
      "**Exercise 1 [10 pts]**. Write a 12 by 12 times table chart without explicit looping (i.e. no for, while or comprehensions). Your code should generate this output:\n",
      "\n",
      "```python\n",
      "[[  1   2   3   4   5   6   7   8   9  10  11  12]\n",
      " [  2   4   6   8  10  12  14  16  18  20  22  24]\n",
      " [  3   6   9  12  15  18  21  24  27  30  33  36]\n",
      " [  4   8  12  16  20  24  28  32  36  40  44  48]\n",
      " [  5  10  15  20  25  30  35  40  45  50  55  60]\n",
      " [  6  12  18  24  30  36  42  48  54  60  66  72]\n",
      " [  7  14  21  28  35  42  49  56  63  70  77  84]\n",
      " [  8  16  24  32  40  48  56  64  72  80  88  96]\n",
      " [  9  18  27  36  45  54  63  72  81  90  99 108]\n",
      " [ 10  20  30  40  50  60  70  80  90 100 110 120]\n",
      " [ 11  22  33  44  55  66  77  88  99 110 121 132]\n",
      " [ 12  24  36  48  60  72  84  96 108 120 132 144]]\n",
      "```"
     ]
    },
    {
     "cell_type": "code",
     "collapsed": false,
     "input": [
      "# Your code here\n",
      "\n",
      "number = np.arange(1, 13)\n",
      "matrix = number[:, None] * number[None, :]\n",
      "print matrix"
     ],
     "language": "python",
     "metadata": {},
     "outputs": [
      {
       "output_type": "stream",
       "stream": "stdout",
       "text": [
        "[[  1   2   3   4   5   6   7   8   9  10  11  12]\n",
        " [  2   4   6   8  10  12  14  16  18  20  22  24]\n",
        " [  3   6   9  12  15  18  21  24  27  30  33  36]\n",
        " [  4   8  12  16  20  24  28  32  36  40  44  48]\n",
        " [  5  10  15  20  25  30  35  40  45  50  55  60]\n",
        " [  6  12  18  24  30  36  42  48  54  60  66  72]\n",
        " [  7  14  21  28  35  42  49  56  63  70  77  84]\n",
        " [  8  16  24  32  40  48  56  64  72  80  88  96]\n",
        " [  9  18  27  36  45  54  63  72  81  90  99 108]\n",
        " [ 10  20  30  40  50  60  70  80  90 100 110 120]\n",
        " [ 11  22  33  44  55  66  77  88  99 110 121 132]\n",
        " [ 12  24  36  48  60  72  84  96 108 120 132 144]]\n"
       ]
      }
     ],
     "prompt_number": 8
    },
    {
     "cell_type": "markdown",
     "metadata": {},
     "source": [
      "**Exercise 2 [10 pts]**. Create a new matrix that normalizes the given matrix so that all *columns* sum to 1.0 without using any loops. Create another matrix so that all *rows* sum to 1.0. In other words, if the 3 matrices were `xs` (given), `ys` (column normalized) and `zs` (row normalized), we would have \n",
      "\n",
      "`ys.sum(axis=0)` = `[ 1.,  1.,  1.,  1.,  1.,  1.]` \n",
      "\n",
      "and \n",
      "\n",
      "`zs.sum(axis=1)` = `[ 1.,  1.,  1.,  1.]`\n",
      "\n",
      "Start by creating the following matrix `xs`\n",
      "```python\n",
      "[[  1.   2.   3.   4.   5.   6.]\n",
      " [  7.   8.   9.  10.  11.  12.]\n",
      " [ 13.  14.  15.  16.  17.  18.]\n",
      " [ 19.  20.  21.  22.  23.  24.]]\n",
      "```"
     ]
    },
    {
     "cell_type": "code",
     "collapsed": false,
     "input": [
      "# Your code here\n",
      "# Create the given matrix xs.\n",
      "xs = np.arange(1, 25).reshape(4,6).astype(np.float64)\n",
      "print xs\n",
      "\n",
      "# Create the column normalized matrix zs (all columns sum to 1.0).\n",
      "ys = xs / xs.sum(axis=0)\n",
      "# xs.sum(axis=0) returns column sums and broadcasting is used here.\n",
      "print ys\n",
      "print ys.sum(axis=0)\n",
      "# Create the row normalized matrix zs (all rows sum to 1.0).\n",
      "zs = xs / xs.sum(axis=1)[:,None]\n",
      "# xs.sum(axis=1)[:,None] returns row sums as 4 by 1 matrix and broadcasting is used here.\n",
      "print zs\n",
      "print zs.sum(axis=1)"
     ],
     "language": "python",
     "metadata": {},
     "outputs": [
      {
       "output_type": "stream",
       "stream": "stdout",
       "text": [
        "[[  1.   2.   3.   4.   5.   6.]\n",
        " [  7.   8.   9.  10.  11.  12.]\n",
        " [ 13.  14.  15.  16.  17.  18.]\n",
        " [ 19.  20.  21.  22.  23.  24.]]\n",
        "[[ 0.025   0.0455  0.0625  0.0769  0.0893  0.1   ]\n",
        " [ 0.175   0.1818  0.1875  0.1923  0.1964  0.2   ]\n",
        " [ 0.325   0.3182  0.3125  0.3077  0.3036  0.3   ]\n",
        " [ 0.475   0.4545  0.4375  0.4231  0.4107  0.4   ]]\n",
        "[ 1.  1.  1.  1.  1.  1.]\n",
        "[[ 0.0476  0.0952  0.1429  0.1905  0.2381  0.2857]\n",
        " [ 0.1228  0.1404  0.1579  0.1754  0.193   0.2105]\n",
        " [ 0.1398  0.1505  0.1613  0.172   0.1828  0.1935]\n",
        " [ 0.1473  0.155   0.1628  0.1705  0.1783  0.186 ]]\n",
        "[ 1.  1.  1.  1.]\n"
       ]
      }
     ],
     "prompt_number": 9
    },
    {
     "cell_type": "markdown",
     "metadata": {},
     "source": [
      "**Exercise 3 [10 pts]**. In this exercise, we will practice using Pandas dataframes to explore and summarize a data set `heart`.\n",
      "\n",
      "This data contains the survival time after receiving a heart transplant, the age of the patient and whether or not the survival time was censored.\n",
      "\n",
      "- Number of Observations - 69\n",
      "- Number of Variables - 3\n",
      "\n",
      "Variable name definitions::\n",
      "\n",
      "- survival - Days after surgery until death\n",
      "- censors - indicates if an observation is censored. 1 is uncensored\n",
      "- age - age at the time of surgery\n",
      "\n",
      "Answer the following questions with respect to the `heart` data set:\n",
      "\n",
      "- How many patients were censored?\n",
      "- What is the correlation coefficient between age and survival for uncensored patients?\n",
      "- What is the average age for censored and uncensored patients?\n",
      "- What is the average survival time for censored and uncensored patients under the age of 45?\n",
      "- What is the survival time of the youngest and oldest uncensored patient?"
     ]
    },
    {
     "cell_type": "code",
     "collapsed": false,
     "input": [
      "import statsmodels.api as sm\n",
      "heart = sm.datasets.heart.load_pandas().data\n",
      "\n",
      "heart.head(n=6)"
     ],
     "language": "python",
     "metadata": {},
     "outputs": [
      {
       "html": [
        "<div style=\"max-height:1000px;max-width:1500px;overflow:auto;\">\n",
        "<table border=\"1\" class=\"dataframe\">\n",
        "  <thead>\n",
        "    <tr style=\"text-align: right;\">\n",
        "      <th></th>\n",
        "      <th>survival</th>\n",
        "      <th>censors</th>\n",
        "      <th>age</th>\n",
        "    </tr>\n",
        "  </thead>\n",
        "  <tbody>\n",
        "    <tr>\n",
        "      <th>0</th>\n",
        "      <td>  15</td>\n",
        "      <td> 1</td>\n",
        "      <td> 54.3</td>\n",
        "    </tr>\n",
        "    <tr>\n",
        "      <th>1</th>\n",
        "      <td>   3</td>\n",
        "      <td> 1</td>\n",
        "      <td> 40.4</td>\n",
        "    </tr>\n",
        "    <tr>\n",
        "      <th>2</th>\n",
        "      <td> 624</td>\n",
        "      <td> 1</td>\n",
        "      <td> 51.0</td>\n",
        "    </tr>\n",
        "    <tr>\n",
        "      <th>3</th>\n",
        "      <td>  46</td>\n",
        "      <td> 1</td>\n",
        "      <td> 42.5</td>\n",
        "    </tr>\n",
        "    <tr>\n",
        "      <th>4</th>\n",
        "      <td> 127</td>\n",
        "      <td> 1</td>\n",
        "      <td> 48.0</td>\n",
        "    </tr>\n",
        "    <tr>\n",
        "      <th>5</th>\n",
        "      <td>  64</td>\n",
        "      <td> 1</td>\n",
        "      <td> 54.6</td>\n",
        "    </tr>\n",
        "  </tbody>\n",
        "</table>\n",
        "</div>"
       ],
       "metadata": {},
       "output_type": "pyout",
       "prompt_number": 9,
       "text": [
        "   survival  censors   age\n",
        "0        15        1  54.3\n",
        "1         3        1  40.4\n",
        "2       624        1  51.0\n",
        "3        46        1  42.5\n",
        "4       127        1  48.0\n",
        "5        64        1  54.6"
       ]
      }
     ],
     "prompt_number": 9
    },
    {
     "cell_type": "code",
     "collapsed": false,
     "input": [
      "import statsmodels.api as sm\n",
      "heart = sm.datasets.heart.load_pandas().data\n",
      "\n",
      "# Your code here\n",
      "# 1) How many patients were censored (\"censors\" = 0)?\n",
      "# len(datafram.index) gives us the number of rows of dataframe.\n",
      "print \"1) There are\", len(heart[heart.censors == 0].index), \"patients that were censored\"\n",
      "\n",
      "# 2) What is the correlation coefficient between age and survival for uncensored patients?\n",
      "print \"2) The correlation coefficient between age and survival for uncensored patients is\", heart[heart.censors == 1].corr().survival.age\n",
      "# 3) What is the average age for censored and uncensored patients?\n",
      "# Censored\n",
      "print \"3) The average age for censored patients is\", heart[heart.censors == 0].mean(axis=0).age\n",
      "# Uncensored\n",
      "print \"   The average age for uncensored patients is\", heart[heart.censors == 1].mean(axis=0).age\n",
      "\n",
      "# 4) What is the average survival time for censored and uncensored patients under the age of 45?\n",
      "# Censored patients under the age of 45\n",
      "print \"4) The average survival time for censored patients under the age of 45 is\", heart[(heart.censors == 0) & (heart.age < 45)].mean(axis=0).survival\n",
      "# Uncensored patients under the age of 45\n",
      "print \"   The average survival time for uncensored patients under the age of 45 is\", heart[(heart.censors == 1) & (heart.age < 45)].mean(axis=0).survival\n",
      "\n",
      "# 5) What is the survival time of the youngest and oldest uncensored patient?\n",
      "print \"5) The survival time of the youngest uncensored patient is\", heart[heart.age == min(heart[(heart.censors == 1)].age)].iat[0,0]\n",
      "print \"   The survival time of the oldest uncensored patient is\", heart[heart.age == max(heart[(heart.censors == 1)].age)].iat[0,0]"
     ],
     "language": "python",
     "metadata": {},
     "outputs": [
      {
       "output_type": "stream",
       "stream": "stdout",
       "text": [
        "1) There are 24 patients that were censored\n",
        "2) The correlation coefficient between age and survival for uncensored patients is 0.00325649928321\n",
        "3) The average age for censored patients is 41.7291666667\n",
        "   The average age for uncensored patients is 48.4844444444\n",
        "4) The average survival time for censored patients under the age of 45 is 712.818181818\n",
        "   The average survival time for uncensored patients under the age of 45 is 169.909090909\n",
        "5) The survival time of the youngest uncensored patient is 228.0\n",
        "   The survival time of the oldest uncensored patient is 60.0\n"
       ]
      }
     ],
     "prompt_number": 10
    },
    {
     "cell_type": "markdown",
     "metadata": {},
     "source": [
      "**Exercise 4 [20 pts]**. Normalize the given matrix $M$ so that all rows sum to 1.0 (as in Exercise 2). This can then be considered as a transition matrix $P$ for a Markov chain. Find the stationary distribution of this matrix in the following ways using `numpy` and `numpy.linalg` (or `scipy.linalg`):\n",
      "\n",
      "- By repeated matrix multiplication of a random probabilty vector $v$ (a row vector normalized to sum to 1.0) with $P$ using matrix multiplication with `np.dot`.\n",
      "- By raising the matrix $P$ to some large power unitl it doesn't change with higher powers (see `np.linalg.matrix_power`) and then calculating $vP$\n",
      "- From the equation for stationarity $wP = w$, we can see that $w$ must be a left eigenvector of $P$ with eigenvalue $1$ (Note: np.linalg.eig returns the right eigenvectors, but the left eighenvector of a matrix is the right eigenvector of the transposed matrix). Use this to find $w$ using `np.linalg.eig`.\n",
      "- Suppose $w = (w_1, w_2, w_3)$. Then from $wP = w$, we have:\n",
      "\\begin{align}\n",
      "w_1 P_{11} + w_2 P_{21} + w_3 P_{31} &= w_1 \\\\\n",
      "w_1 P_{12} + w_2 P_{22} + w_3 P_{32} &= w_2 \\\\\n",
      "w_1 P_{13} + w_2 P_{23} + w_3 P_{331} &= w_3 \\\\\n",
      "\\end{align}\n",
      "This is a singular system, but we also know that $w_1 + w_2 + w_3 = 1$. Use these facts to set up a linear system of equations that can be solved with `np.linalg.solve` to find $w$.\n",
      "\n",
      "Given matrix $M$\n",
      "```python\n",
      "      [[7, 8, 8],\n",
      "       [1, 3, 8],\n",
      "       [9, 2, 1]]\n",
      "```"
     ]
    },
    {
     "cell_type": "code",
     "collapsed": false,
     "input": [
      "# Your code here\n",
      "# Create the given matrix\n",
      "M = np.array([[7, 8, 8],[1, 3, 8],[9, 2, 1]])\n",
      "print M\n",
      "# Normalize the given matrix M so that all rows sum to 1.0\n",
      "P = M / M.sum(axis=1)[:,None].astype(np.float64)\n",
      "print P\n",
      "print P.sum(axis=1)\n",
      "\n",
      "# 1) Repeated matrix multiplication\n",
      "# Create a random row vector and then normalize it.\n",
      "v = np.random.random(3)\n",
      "v = v / v.sum()\n",
      "# Repeated matrix multiplication\n",
      "while True:\n",
      "    u = np.dot(v,P)\n",
      "    if (sum(np.abs(v-u)) < 1e-6):\n",
      "        break\n",
      "    v = u\n",
      "    \n",
      "print u\n",
      "\n",
      "# 2) By raising the matrix P to some large power\n",
      "n=1\n",
      "while True:   \n",
      "    lower = np.linalg.matrix_power(P,n)\n",
      "    higher = np.linalg.matrix_power(P,n+1)\n",
      "    if (np.sum(abs(lower-higher)) < 1e-6):\n",
      "        break\n",
      "    n += 1\n",
      "\n",
      "stableP = np.linalg.matrix_power(P,n)\n",
      "# Create a new random row vector v.\n",
      "v = np.random.random(3)\n",
      "v = v / v.sum()\n",
      "print np.dot(v,stableP)\n",
      "\n",
      "# 3) wP=w, find w \n",
      "u1, u2= np.linalg.eig(P.transpose())\n",
      "# find the left eigenvector of P with eigenvalue 1\n",
      "q = np.where(np.real_if_close(np.round(u1,5)) == 1.0)[0][0]\n",
      "w = np.real_if_close(np.round(u2[:,q],5)) \n",
      "print w/sum(w)\n",
      "\n",
      "# 4) Linear system of equations\n",
      "# Plug w1+w2+w3=1 into the first equation in singular system and we get linear system:\n",
      "# w1(p11-2) + w2(p21-1) + w3(p31-1) = -1\n",
      "# w1p12 + w2(p22-1) + w3p32 = 0\n",
      "# w1p13 + w2p23 + w3(p33-1) = 0\n",
      "\n",
      "left = np.array([[P[0,0]-2,P[1,0]-1,P[2,0]-1],[P[0,1],P[1,1]-1,P[2,1]],[P[0,2],P[1,2],P[2,2]-1]])\n",
      "right = np.array([-1,0,0])\n",
      "print np.linalg.solve(left,right)"
     ],
     "language": "python",
     "metadata": {},
     "outputs": [
      {
       "output_type": "stream",
       "stream": "stdout",
       "text": [
        "[[7 8 8]\n",
        " [1 3 8]\n",
        " [9 2 1]]\n",
        "[[ 0.3043  0.3478  0.3478]\n",
        " [ 0.0833  0.25    0.6667]\n",
        " [ 0.75    0.1667  0.0833]]\n",
        "[ 1.  1.  1.]\n",
        "[ 0.3986  0.2606  0.3408]\n",
        "[ 0.3986  0.2606  0.3408]\n",
        "[ 0.3986  0.2606  0.3408]\n",
        "[ 0.3986  0.2606  0.3408]\n"
       ]
      }
     ],
     "prompt_number": 11
    },
    {
     "cell_type": "code",
     "collapsed": false,
     "input": [],
     "language": "python",
     "metadata": {},
     "outputs": []
    }
   ],
   "metadata": {}
  }
 ]
}