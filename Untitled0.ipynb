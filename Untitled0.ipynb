{
 "metadata": {
  "name": "",
  "signature": "sha256:1652f238a8f4ae8cdfeb1c07a35a38ab182498b49e4085a39c32535178ffb3fb"
 },
 "nbformat": 3,
 "nbformat_minor": 0,
 "worksheets": [
  {
   "cells": [
    {
     "cell_type": "code",
     "collapsed": false,
     "input": [
      "from scipy.stats import chisquare\n",
      "a = [1,2,1]\n",
      "b = [2,3,4]\n",
      "chisquare(a,b)"
     ],
     "language": "python",
     "metadata": {},
     "outputs": [
      {
       "metadata": {},
       "output_type": "pyout",
       "prompt_number": 5,
       "text": [
        "(3.083333333333333, 0.2140240971774475)"
       ]
      }
     ],
     "prompt_number": 5
    }
   ],
   "metadata": {}
  }
 ]
}