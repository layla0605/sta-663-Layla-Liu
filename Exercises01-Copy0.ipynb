{
 "metadata": {
  "name": "",
  "signature": "sha256:00e1de85215cf5787d4d5b72889a2929b1e815b941fed56335cae2ea55fb17ff"
 },
 "nbformat": 3,
 "nbformat_minor": 0,
 "worksheets": [
  {
   "cells": [
    {
     "cell_type": "code",
     "collapsed": false,
     "input": [
      "from IPython.display import Image"
     ],
     "language": "python",
     "metadata": {},
     "outputs": [],
     "prompt_number": 1
    },
    {
     "cell_type": "markdown",
     "metadata": {},
     "source": [
      "Computer lab\n",
      "----\n",
      "\n",
      "These exercises are designed to give you some practice coding in Python and proivde familiarity with the language syntax."
     ]
    },
    {
     "cell_type": "markdown",
     "metadata": {},
     "source": [
      "**Exercise 1 [10 pts]**. Write code to solve the [Project Euler puzzle 1](https://projecteuler.net/problems)"
     ]
    },
    {
     "cell_type": "code",
     "collapsed": false,
     "input": [
      "def multiple(seq): return seq % 3 == 0 or seq % 5 == 0\n",
      "print sum(filter(multiple, range(1,1000)))\n",
      "\n",
      "#Another method, just to practice\n",
      "multiple = [x for x in range(1,1000) if x % 3 == 0 or x % 5 == 0]\n",
      "print sum(multiple)"
     ],
     "language": "python",
     "metadata": {},
     "outputs": [
      {
       "output_type": "stream",
       "stream": "stdout",
       "text": [
        "233168\n",
        "233168\n"
       ]
      }
     ],
     "prompt_number": 15
    },
    {
     "cell_type": "markdown",
     "metadata": {},
     "source": [
      "**Exericse 2 [10 pts]**. Wikipedia gives the sample correlation coefficient formula as shown below. Write functions to calculate the sample mean, the sample standard deviation and the sample correlation coefficient. Calculate the sample correlation coefficent for the following lists of numbers:\n",
      "\n",
      "```python\n",
      "x = [10.0, 8.0, 13.0, 9.0, 11.0, 14.0, 6.0, 4.0, 12.0, 7.0, 5.0]\n",
      "y = [8.04, 6.95, 7.58, 8.81, 8.33, 9.96, 7.24, 4.26, 10.84, 4.82, 5.68]\n",
      "```\n",
      "\n",
      "Do NOT use `numpy`  functions - the idea is to code the functions yourself! The square root of $x$ can be calculated as ```x**0.5```."
     ]
    },
    {
     "cell_type": "code",
     "collapsed": false,
     "input": [
      "Image(url=\"http://upload.wikimedia.org/math/0/4/e/04e3ee493ddb1f01e03d8bf024fbd0a5.png\")"
     ],
     "language": "python",
     "metadata": {},
     "outputs": [
      {
       "html": [
        "<img src=\"http://upload.wikimedia.org/math/0/4/e/04e3ee493ddb1f01e03d8bf024fbd0a5.png\"/>"
       ],
       "metadata": {},
       "output_type": "pyout",
       "prompt_number": 3,
       "text": [
        "<IPython.core.display.Image at 0x1033e2e50>"
       ]
      }
     ],
     "prompt_number": 3
    },
    {
     "cell_type": "code",
     "collapsed": false,
     "input": [
      "Image(url=\"http://upload.wikimedia.org/math/7/0/d/70df5220933ae8298cd5ef1c719360bf.png\")"
     ],
     "language": "python",
     "metadata": {},
     "outputs": [
      {
       "html": [
        "<img src=\"http://upload.wikimedia.org/math/7/0/d/70df5220933ae8298cd5ef1c719360bf.png\"/>"
       ],
       "metadata": {},
       "output_type": "pyout",
       "prompt_number": 4,
       "text": [
        "<IPython.core.display.Image at 0x10369d310>"
       ]
      }
     ],
     "prompt_number": 4
    },
    {
     "cell_type": "code",
     "collapsed": false,
     "input": [
      "vecx = [10.0, 8.0, 13.0, 9.0, 11.0, 14.0, 6.0, 4.0, 12.0, 7.0, 5.0]\n",
      "vecy = [8.04, 6.95, 7.58, 8.81, 8.33, 9.96, 7.24, 4.26, 10.84, 4.82, 5.68]\n",
      "\n",
      "def sampleMean(x):\n",
      "    if len(x) > 0:\n",
      "        return float(sum(x)/len(x))\n",
      "    else:\n",
      "        return float('nan')\n",
      "    \n",
      "def sampleDev(x):\n",
      "    dev = [i - sampleMean(x) for i in x]\n",
      "    dev2 = [i * i for i in dev]\n",
      "    result = float(sum(dev2)/(len(x) - 1))\n",
      "    return result**0.5\n",
      "\n",
      "def sampleCoeff(x,y):\n",
      "    biasX = [(float(i) - sampleMean(x))/sampleDev(x) for i in x]\n",
      "    biasY = [(float(i) - sampleMean(y))/sampleDev(y) for i in y]\n",
      "    result = [i * j for i,j in zip(biasX,biasY)]\n",
      "    return (sum(result)/(len(vecx)-1))\n",
      "\n",
      "print sampleCoeff(vecx,vecy)\n",
      "print sampleMean(vecx)\n",
      "print sampleMean(vecy)\n",
      "print sampleDev(vecx)\n",
      "print sampleDev(vecy)"
     ],
     "language": "python",
     "metadata": {},
     "outputs": [
      {
       "output_type": "stream",
       "stream": "stdout",
       "text": [
        "0.816420516345\n",
        "9.0\n",
        "7.50090909091\n",
        "3.31662479036\n",
        "2.03156813593\n"
       ]
      }
     ],
     "prompt_number": 16
    },
    {
     "cell_type": "markdown",
     "metadata": {},
     "source": [
      "**Exercise 3** [10 pts]. Write a function to calculate hailstone numbers.\n",
      "\n",
      "Start with any positive integer (an initial seed) and obtain a sequence of numbers by following these rules.\n",
      "\n",
      "1. Base case: If the number is 1, stop.\n",
      "2. Recursvie case: If the current number is even, divide it by two; else if it is odd, multiply it by three and add one. \n",
      "\n",
      "The seqeunce of numbers obtained are known as *hailstone numbers* - although it is not proven that all sequences will eventually terminate with 1 (Collatz conjecture), no couter-example has yet been found. \n",
      "\n",
      "For example, starting with 7, we get the seuqence 7, 22, 11, 34, 17, 52, 26, 13, 40, 20, 10, 5, 16, 8, 4, 2, 1, 4, 2, 1.\n",
      "\n",
      "A recursive function to find the sequence of hailstone nummbers is given below. Write a *non-recursvie* version of the function that gives the same result. Using your function, what is the length of the sequeence obtained when we start with 23?\n",
      "\n",
      "```python\n",
      "def hailstone(n, acc=None):\n",
      "    \"\"\"Given a positive integer n, return the series of hailstone numbers.\"\"\"\n",
      "    if acc is None:\n",
      "        acc = []\n",
      "    acc.append(n)\n",
      "    if n == 1:\n",
      "        return acc\n",
      "    else:\n",
      "        if n%2 == 0:\n",
      "            return hailstone(n/2, acc)\n",
      "        else:\n",
      "            return hailstone(n*3 + 1, acc)\n",
      "```"
     ]
    },
    {
     "cell_type": "code",
     "collapsed": false,
     "input": [
      "# non-recursive version \n",
      "def hailstone1(n):\n",
      "    acc = []\n",
      "    while n != 1:\n",
      "        acc.append(n)\n",
      "        if n % 2 == 0:\n",
      "            n = n / 2\n",
      "        else:\n",
      "            n = n * 3 + 1\n",
      "    acc.append(n)\n",
      "    return acc\n",
      "\n",
      "print len(hailstone1(23))"
     ],
     "language": "python",
     "metadata": {},
     "outputs": [
      {
       "output_type": "stream",
       "stream": "stdout",
       "text": [
        "16\n"
       ]
      }
     ],
     "prompt_number": 17
    },
    {
     "cell_type": "markdown",
     "metadata": {},
     "source": [
      "**Exercise 4 [20 pts]**. A Caesar cipher replaces each in a string with the letter $k$ modulo 26 positions down. For example, with $k=3$, 'a' would become 'd', 'b' would become 'e' and so on. The Caesar cipher is very easy to crack, since the relative letter frequencies are preserved - that is, 'e' is the most commonly used English letter, so the most frequent letter in the cipher is likely to be the code for 'e'. We can download a large corpus of English text (e.g. a few books from Project Gutenberg), and estimate the individual letter frequencies. Using for example, a multinomial model where each letter is one of 26 possibiilites with frequencies given by the the previous estimates, and assuming that each letter is independent, we can simply go through all 26 possible values of $k$ and choose the model with the highest likelihood. Or just use $\\chi^2$ statistic to compare observed and expected frequencies.\n",
      "\n",
      "Have an extended exercise to write a Caesar encoder and code to crack the cipher. \n",
      "\n",
      "- Writing the encoder/decoder\n",
      "    - Convert a sentence to lowercase\n",
      "    - Write a function let2int to convert a lowercase letter to a number from 0 to 25\n",
      "    - Write the reverse function int2let to convert a number to a lowercase letter\n",
      "    - Examples with the ternary operator in a list comprehsnsion\n",
      "    - Write a functiton to encode a sentecne with shift k\n",
      "    - Write a function to decode a sentence with shfit k\n",
      "    - Confirm that sentence = decode(encode(sentence))\n",
      "    \n",
      "- Writing the cracker\n",
      "    - Write a function to download a book from Project Gutenberg\n",
      "    ```python\n",
      "    text = urllib2.urlopen('http://www.gutenberg.org/ebooks/1342.txt.utf-8').read()\n",
      "    ```\n",
      "    - Write a fucntion to estimte letter frequencies in text\n",
      "    - Write a function to calculate the $\\chi^2$ statistic given observed and expected frequencies\n",
      "    - Write a cracker to deecode encrypted text by choosing the shift $k$ with the smallest $\\chi^2$ score"
     ]
    },
    {
     "cell_type": "code",
     "collapsed": false,
     "input": [
      "# Writing the encoder/decoder\n",
      "# Convert a  sentence to lowercase\n",
      "sen = \"\"\"The seller has the corresponding obligation to fulfill the transaction - that is to sell or buy - if the buyer (owner) \"exercises\" the option.\"\"\"\n",
      "sen = sen.lower()\n",
      "print sen\n",
      "\n",
      "        \n",
      "# Convert a lowercase letter to a number from 0 to 25\n",
      "def let2int(ch):\n",
      "    return (ord(ch.lower()) - ord('a'))\n",
      "\n",
      "# Convert a number to a lowercase letter\n",
      "def int2let(num):\n",
      "    return chr(num % 26 + ord('a'))\n",
      "\n",
      "# Encode a sentecne with shift k\n",
      "def encode(inputstr,k):\n",
      "    result = [int2let((let2int(i) + k) % 26) if let2int('a') <= let2int(i) <= let2int('z') else i for i in inputstr]\n",
      "    return(''.join(result))\n",
      "\n",
      "### Another version without using ternary operator--just for practising!!\n",
      "def encodePractice(inputstr,k):\n",
      "    result = \"\"\n",
      "    str = inputstr.lower()\n",
      "    k = k % 26\n",
      "    for i in range(0,len(str)):\n",
      "        if (ord(str[i]) <= ord('z')) & (ord(str[i]) >= ord('a')):\n",
      "            if (ord(str[i]) + k) > (ord('a') + 25):\n",
      "                result = result + chr(ord(str[i]) + k - 26)\n",
      "            else:\n",
      "                result  = result + chr(ord(str[i]) + k)\n",
      "        else:\n",
      "            result = result + str[i]\n",
      "    return result       \n",
      "    \n",
      "# Decode a sentence with shfit k\n",
      "def decode(inputstr,k):\n",
      "    return(encode(inputstr,26-k))    \n",
      "\n",
      "### Another version without using ternary operator--just for practising!!\n",
      "def decodePractice(inputstr,k):\n",
      "    result = \"\"\n",
      "    str = inputstr.lower()\n",
      "    k = -k % 26\n",
      "    for i in range(0,len(str)):\n",
      "        if (ord(str[i]) <= ord('z')) & (ord(str[i]) >= ord('a')):  \n",
      "            if (ord(str[i]) + k) > (ord('a') + 25):\n",
      "                result = result + chr(ord(str[i]) + k - 26)\n",
      "            else:\n",
      "                result  = result + chr(ord(str[i]) + k)\n",
      "        else:\n",
      "            result = result + str[i]\n",
      "    return result\n",
      "\n",
      "# Confirm sentence = decode(encode(sentence))\n",
      "print(sen == decode(encode(sen,3),3))       \n",
      "\n",
      "# Writing the cracker\n",
      "# Write a function to download a book from Project Gutenberg\n",
      "import urllib2\n",
      "def download():\n",
      "    return(urllib2.urlopen('http://www.gutenberg.org/ebooks/1342.txt.utf-8').read())\n",
      "    \n",
      "# estimate the term frequencies of the text\n",
      "import collections\n",
      "import string\n",
      "from string import digits\n",
      "alphabet = \"\"\"abcdefghijklmnopqrstuvwxyz\"\"\"\n",
      "def EstFre(text):\n",
      "    ###first treat upper case and lower case as the same, and remove numbers, symbols, spaces, and symbols for new line\n",
      "    str = text.lower().replace('\\xef\\xbb\\xbf', '').replace('\\n', '').replace('\\r', '').translate(None, string.punctuation).replace(' ', '').translate(None, digits)\n",
      "    ###Use package \"collections\"\n",
      "    count = collections.Counter(str)\n",
      "    for x in alphabet:\n",
      "        count[x] = count.get(x,0)\n",
      "    #Sort the output by keys\n",
      "    count = dict(sorted([(k,v) for (k,v) in count.items()]))\n",
      "    ###change values into frequencies\n",
      "    totalFreq = sum(count.values())\n",
      "    for key, value in count.items():\n",
      "        count[key] = float(value) / float(totalFreq)\n",
      "    return(count)\n",
      "       \n",
      "# calculate the $\\chi^2$ statistic given observed and expected frequencies\n",
      "def chiSquare(observed, expected):\n",
      "    return ([sum((observed[x]-expected[x])**2/expected[x] for x in alphabet)])\n",
      "\n",
      "\n",
      "# decode encrypted text by choosing the shift $k$ with the smallest $\\chi^2$ score       \n",
      "def cracker(textInput):\n",
      "    #Use frequencies in downloaded book as the expected frequencies\n",
      "    text = download()\n",
      "    chi2 = [chiSquare(EstFre(decode(textInput, k)), EstFre(text)) for k in range(26)]\n",
      "    result = decode(textInput, chi2.index(min(chi2)))\n",
      "    return result\n",
      "\n",
      "# see if this will work\n",
      "cracker(encode(sen,3))"
     ],
     "language": "python",
     "metadata": {},
     "outputs": [
      {
       "output_type": "stream",
       "stream": "stdout",
       "text": [
        "the seller has the corresponding obligation to fulfill the transaction - that is to sell or buy - if the buyer (owner) \"exercises\" the option.\n",
        "True\n"
       ]
      },
      {
       "metadata": {},
       "output_type": "pyout",
       "prompt_number": 18,
       "text": [
        "'the seller has the corresponding obligation to fulfill the transaction - that is to sell or buy - if the buyer (owner) \"exercises\" the option.'"
       ]
      }
     ],
     "prompt_number": 18
    },
    {
     "cell_type": "code",
     "collapsed": false,
     "input": [],
     "language": "python",
     "metadata": {},
     "outputs": []
    }
   ],
   "metadata": {}
  }
 ]
}