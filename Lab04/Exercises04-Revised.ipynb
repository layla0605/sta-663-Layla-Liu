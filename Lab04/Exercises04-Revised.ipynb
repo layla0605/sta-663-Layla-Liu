{
 "metadata": {
  "name": "",
  "signature": "sha256:bafa4db5514eb61e784f8618d89329a4eb5a266fd0e93dcd9288591c7c4d7738"
 },
 "nbformat": 3,
 "nbformat_minor": 0,
 "worksheets": [
  {
   "cells": [
    {
     "cell_type": "code",
     "collapsed": false,
     "input": [
      "import os\n",
      "import sys\n",
      "import glob\n",
      "import matplotlib.pyplot as plt\n",
      "import numpy as np\n",
      "import pandas as pd\n",
      "%matplotlib inline\n",
      "%precision 4\n",
      "plt.style.use('ggplot')\n"
     ],
     "language": "python",
     "metadata": {},
     "outputs": [],
     "prompt_number": 47
    },
    {
     "cell_type": "code",
     "collapsed": false,
     "input": [
      "import scipy.linalg as la\n",
      "import scipy.stats as st"
     ],
     "language": "python",
     "metadata": {},
     "outputs": [],
     "prompt_number": 48
    },
    {
     "cell_type": "code",
     "collapsed": false,
     "input": [
      "import cPickle"
     ],
     "language": "python",
     "metadata": {},
     "outputs": [],
     "prompt_number": 49
    },
    {
     "cell_type": "code",
     "collapsed": false,
     "input": [
      "np.set_printoptions(formatter={'float': '{: 0.3f}'.format})"
     ],
     "language": "python",
     "metadata": {},
     "outputs": [],
     "prompt_number": 50
    },
    {
     "cell_type": "markdown",
     "metadata": {},
     "source": [
      "Latent Semantic Analysis (LSA) is a method for reducing the dimnesionality of documents treated as a bag of words. It is used for document classification, clustering and retrieval. For example, LSA can be used to search for prior art given a new patent application. In this homework, we will implement a small library for simple latent semantic analysis as a practical example of the application of SVD. The ideas are very similar to PCA.\n",
      "\n",
      "We will implement a toy example of LSA to get familiar with the ideas. If you want to use LSA or similar methods for statiscal language analyis, the most efficient Python library is probably [gensim](https://radimrehurek.com/gensim/) - this also provides an online algorithm - i.e. the training information can be continuously updated. Other useful functions for processing natural language can be found in the [Natural Lnaguage Toolkit](http://www.nltk.org/)."
     ]
    },
    {
     "cell_type": "markdown",
     "metadata": {},
     "source": [
      "**Note**: The SVD from scipy.linalg performs a full decomposition, which is inefficient since we only need to decompose until we get the first k singluar values. If the SVD from `scipy.linalg` is too slow, please use the `sparsesvd` function from the [sparsesvd](https://pypi.python.org/pypi/sparsesvd/) package to perform SVD instead.  You can install in the usual way with \n",
      "```\n",
      "!pip install sparsesvd\n",
      "```\n",
      "\n",
      "Then import the following\n",
      "```python\n",
      "from sparsesvd import sparsesvd \n",
      "from scipy.sparse import csc_matrix \n",
      "```\n",
      "\n",
      "and use as follows\n",
      "```python\n",
      "sparsesvd(csc_matrix(M), k=10)\n",
      "```"
     ]
    },
    {
     "cell_type": "code",
     "collapsed": false,
     "input": [
      "!pip install sparsesvd"
     ],
     "language": "python",
     "metadata": {},
     "outputs": [
      {
       "output_type": "stream",
       "stream": "stdout",
       "text": [
        "Requirement already satisfied (use --upgrade to upgrade): sparsesvd in /home/bitnami/anaconda/lib/python2.7/site-packages\r\n",
        "Requirement already satisfied (use --upgrade to upgrade): scipy>=0.6.0 in /home/bitnami/anaconda/lib/python2.7/site-packages (from sparsesvd)\r\n",
        "Requirement already satisfied (use --upgrade to upgrade): cython in /home/bitnami/anaconda/lib/python2.7/site-packages (from sparsesvd)\r\n",
        "Cleaning up...\r\n"
       ]
      }
     ],
     "prompt_number": 51
    },
    {
     "cell_type": "markdown",
     "metadata": {},
     "source": [
      "**Exercise 1 (10 points)**.  Calculating pairwise distance matrices.\n",
      "\n",
      "Suppose we want to construct a distance matrix between the rows of a matrix. For example, given the matrix \n",
      "\n",
      "```python\n",
      "M = np.array([[1,2,3],[4,5,6]])\n",
      "```\n",
      "\n",
      "the distance matrix using Euclidean distance as the measure would be\n",
      "```python\n",
      "[[ 0.000  1.414  2.828]\n",
      " [ 1.414  0.000  1.414]\n",
      " [ 2.828  1.414  0.000]] \n",
      "```\n",
      "if $M$ was a collection of column vectors.\n",
      "\n",
      "Write a function to calculate the pairwise-distance matrix given the matrix $M$ and some arbitrary distance function. Your functions should have the following signature:\n",
      "```\n",
      "def func_name(M, distance_func):\n",
      "    pass\n",
      "```\n",
      "\n",
      "0. Write a distance function for the Euclidean, squared Euclidean and cosine measures.\n",
      "1. Write the function using looping for M as a collection of row vectors.\n",
      "2. Write the function using looping for M as a collection of column vectors.\n",
      "3. Wrtie the function using broadcasting for M as a colleciton of row vectors.\n",
      "4. Write the function using broadcasting for M as a colleciton of column vectors. \n",
      "\n",
      "For 3 and 4, try to avoid using transposition (but if you get stuck, there will be no penalty for using transpoition). Check that all four functions give the same result when applied to the given matrix $M$."
     ]
    },
    {
     "cell_type": "code",
     "collapsed": false,
     "input": [
      "# Your code here\n",
      "def euclidean(a,b):\n",
      "    return np.linalg.norm(a-b) \n",
      "    \n",
      "def suqare_euclidean(a,b):  \n",
      "    return np.linalg.norm(a-b)**2\n",
      "\n",
      "def cosine(a,b):\n",
      "    return 1- np.dot(a,b.T)/(np.linalg.norm(a)*np.linalg.norm(b))\n",
      "\n",
      "def distance_looping_row(M, distance_func):\n",
      "    distance = np.zeros((M.shape[0],M.shape[0]))\n",
      "    #M.shape[0] refers to the number of rows in M\n",
      "    for i in range(M.shape[0]):\n",
      "        for j in range(i, M.shape[0]):\n",
      "            distance[i, j] = distance_func(M[i,:],M[j,:])\n",
      "    distance = distance + distance.T - np.diag(distance.diagonal())\n",
      "    return distance\n",
      " \n",
      "def distance_looping_column(M, distance_func):\n",
      "    distance = np.zeros((M.shape[1],M.shape[1]))\n",
      "    #M.shape[1] refers to the number of columns in M\n",
      "    for i in range(M.shape[1]):\n",
      "        for j in range(i,M.shape[1]):\n",
      "            distance[i,j] = distance_func(M[:,i],M[:,j])\n",
      "    distance = distance + distance.T - np.diag(distance.diagonal())\n",
      "    return distance\n",
      "\n",
      "A = np.array([[1,2,3],[4,5,6]])\n",
      "print distance_looping_row(A, euclidean)\n",
      "print distance_looping_row(A, suqare_euclidean)\n",
      "print distance_looping_row(A, cosine)\n",
      "print distance_looping_column(A, euclidean)\n",
      "print distance_looping_column(A, suqare_euclidean)\n",
      "print distance_looping_column(A, cosine)\n"
     ],
     "language": "python",
     "metadata": {},
     "outputs": [
      {
       "output_type": "stream",
       "stream": "stdout",
       "text": [
        "[[ 0.000  5.196]\n",
        " [ 5.196  0.000]]\n",
        "[[ 0.000  27.000]\n",
        " [ 27.000  0.000]]\n",
        "[[ 0.000  0.025]\n",
        " [ 0.025  0.000]]\n",
        "[[ 0.000  1.414  2.828]\n",
        " [ 1.414  0.000  1.414]\n",
        " [ 2.828  1.414  0.000]]\n",
        "[[ 0.000  2.000  8.000]\n",
        " [ 2.000  0.000  2.000]\n",
        " [ 8.000  2.000  0.000]]\n",
        "[[ 0.000  0.009  0.024]\n",
        " [ 0.009 -0.000  0.003]\n",
        " [ 0.024  0.003  0.000]]\n"
       ]
      }
     ],
     "prompt_number": 52
    },
    {
     "cell_type": "code",
     "collapsed": false,
     "input": [
      "def distance_broadcasting_row(M, distance):\n",
      "    if distance == euclidean:\n",
      "        return np.sum((M[:,None] - M[None, :])**2, -1)**0.5\n",
      "    elif distance == suqare_euclidean:\n",
      "        return np.sum((M[:,None] - M[None, :])**2, -1)\n",
      "    elif distance == cosine:\n",
      "        N = np.zeros(M.shape)\n",
      "        a = np.sum(M[:,None] * M[None, :], -1)\n",
      "        b = np.sum((M[:,None] - N[None,:])**2, -1)**0.5\n",
      "        c = np.sum((M[None,:] - N[:,None])**2, -1)**0.5\n",
      "        return 1 - a / (b * c)\n",
      "\n",
      "print distance_broadcasting_row(A, euclidean)\n",
      "print distance_broadcasting_row(A, suqare_euclidean)\n",
      "print distance_broadcasting_row(A, cosine)"
     ],
     "language": "python",
     "metadata": {},
     "outputs": [
      {
       "output_type": "stream",
       "stream": "stdout",
       "text": [
        "[[ 0.000  5.196]\n",
        " [ 5.196  0.000]]\n",
        "[[ 0 27]\n",
        " [27  0]]\n",
        "[[ 0.000  0.025]\n",
        " [ 0.025  0.000]]\n"
       ]
      }
     ],
     "prompt_number": 53
    },
    {
     "cell_type": "code",
     "collapsed": false,
     "input": [
      "def distance_broadcasting_column(M, distance):\n",
      "    M = M.T\n",
      "    if distance == euclidean:\n",
      "        return np.sum((M[:,None] - M[None, :])**2, -1)**0.5\n",
      "    elif distance == suqare_euclidean:\n",
      "        return np.sum((M[:,None] - M[None, :])**2, -1)\n",
      "    elif distance == cosine:\n",
      "        N = np.zeros(M.shape)\n",
      "        a = np.sum(M[:,None] * M[None, :], -1)\n",
      "        b = np.sum((M[:,None] - N[None,:])**2, -1)**0.5\n",
      "        c = np.sum((M[None,:] - N[:,None])**2, -1)**0.5\n",
      "        return 1 - a / (b * c)\n",
      "\n",
      "print distance_broadcasting_column(A, euclidean)\n",
      "print distance_broadcasting_column(A, suqare_euclidean)\n",
      "print distance_broadcasting_column(A, cosine)"
     ],
     "language": "python",
     "metadata": {},
     "outputs": [
      {
       "output_type": "stream",
       "stream": "stdout",
       "text": [
        "[[ 0.000  1.414  2.828]\n",
        " [ 1.414  0.000  1.414]\n",
        " [ 2.828  1.414  0.000]]\n",
        "[[0 2 8]\n",
        " [2 0 2]\n",
        " [8 2 0]]\n",
        "[[ 0.000  0.009  0.024]\n",
        " [ 0.009 -0.000  0.003]\n",
        " [ 0.024  0.003  0.000]]\n"
       ]
      }
     ],
     "prompt_number": 54
    },
    {
     "cell_type": "markdown",
     "metadata": {},
     "source": [
      "**Exercise 2 (10 points)**. Write 3 functions to calculate the term frequency (tf), the inverse document frequency (idf) and the product (tf-idf). Each function should take a single argument `docs`, which is a dictionary of (key=identifier, value=dcoument text) pairs, and return an appropriately sized array. Convert '-' to ' ' (space), remove punctuation, convert text to lowercase and split on whitespace to generate a collection of terms from the dcoument text.\n",
      "\n",
      "- tf = the number of occurrences of term $i$ in document $j$\n",
      "- idf = $\\log \\frac{n}{1 + \\text{df}_i}$ where $n$ is the total number of documents and $\\text{df}_i$ is the number of documents in which term $i$ occurs.\n",
      "\n",
      "Print the table of tf-idf values for the following document collection\n",
      "\n",
      "```\n",
      "s1 = \"The quick brown fox\"\n",
      "s2 = \"Brown fox jumps over the jumps jumps jumps\"\n",
      "s3 = \"The the the lazy dog elephant.\"\n",
      "s4 = \"The the the the the dog peacock lion tiger elephant\"\n",
      "\n",
      "docs = {'s1': s1, 's2': s2, 's3': s3, 's4': s4}\n",
      "```\n",
      "\n",
      "Note: You can use either a numpy array or pandas dataframe to store the matrix. However, we suggest using a Pnadas dataframe since that will allow you to keep track of the row (term) and column (document) names in a single object. Of course, you could also maintain a numpy matrix, a list of terms, and a list of documents separately if you prefer."
     ]
    },
    {
     "cell_type": "code",
     "collapsed": false,
     "input": [
      "import string\n",
      "s1 = \"The quick brown fox\"\n",
      "s2 = \"Brown fox jumps over the jumps jumps jumps\"\n",
      "s3 = \"The the the lazy dog elephant.\"\n",
      "s4 = \"The the the the the dog peacock lion tiger elephant\"\n",
      "docs = {'s1': s1, 's2': s2, 's3': s3, 's4': s4}\n",
      "\n",
      "from collections import Counter\n",
      "def tf(doc):\n",
      "    \"\"\"Returns the number of times each term occurs in a dcoument.\n",
      "    We preprocess the document to strip punctuation and convert to lowercase.\n",
      "    Terms are found by splitting on whitespace.\"\"\"\n",
      "    # remove punctuation, convert text to lowercase, and split by whitespace to find each term\n",
      "    text = string.replace(doc, '-', ' ')\n",
      "    text = text.lower().replace('\\n', ' ').translate(None, string.punctuation).split(\" \")\n",
      "    # Use Counter in package \"collections\"\n",
      "    count = dict(Counter(text))\n",
      "    return(count)\n",
      "\n",
      "print \"Term frequency for s1:\", tf(s1)\n",
      "print \"Term frequency for s2:\", tf(s2)\n",
      "print \"Term frequency for s3:\", tf(s3)\n",
      "print \"Term frequency for s4:\", tf(s4)"
     ],
     "language": "python",
     "metadata": {},
     "outputs": [
      {
       "output_type": "stream",
       "stream": "stdout",
       "text": [
        "Term frequency for s1: {'quick': 1, 'brown': 1, 'the': 1, 'fox': 1}\n",
        "Term frequency for s2: {'brown': 1, 'jumps': 4, 'fox': 1, 'over': 1, 'the': 1}\n",
        "Term frequency for s3: {'the': 3, 'dog': 1, 'lazy': 1, 'elephant': 1}\n",
        "Term frequency for s4: {'tiger': 1, 'peacock': 1, 'lion': 1, 'elephant': 1, 'the': 5, 'dog': 1}\n"
       ]
      }
     ],
     "prompt_number": 55
    },
    {
     "cell_type": "code",
     "collapsed": false,
     "input": [
      "def tfs(docs):\n",
      "    \"\"\"Create a term freqeuncy dataframe from a dictionary of documents.\"\"\"\n",
      "    # row (term) and column (document) \n",
      "    docname = []\n",
      "    termfreq = []\n",
      "    for k, v in docs.iteritems():\n",
      "        docname.append(k)\n",
      "        termfreq.append(tf(v)) \n",
      "    # Create DataFrame from list of dictionaries, with index being corresponding document name\n",
      "    # Then use \".T\" to transpose the dataframe so that the indexes now being the term's name\n",
      "    # Then use \".sort(axis = 1)\" to sort the dataframe by column name so that the results are more readable\n",
      "    # Then use \".fillna(0)\" to substitute all the NaN with 0\n",
      "    return pd.DataFrame(termfreq, index = docname).T.fillna(0)   \n",
      "\n",
      "print tfs(docs)"
     ],
     "language": "python",
     "metadata": {},
     "outputs": [
      {
       "output_type": "stream",
       "stream": "stdout",
       "text": [
        "          s3  s2  s1  s4\n",
        "brown      0   1   1   0\n",
        "dog        1   0   0   1\n",
        "elephant   1   0   0   1\n",
        "fox        0   1   1   0\n",
        "jumps      0   4   0   0\n",
        "lazy       1   0   0   0\n",
        "lion       0   0   0   1\n",
        "over       0   1   0   0\n",
        "peacock    0   0   0   1\n",
        "quick      0   0   1   0\n",
        "the        3   1   1   5\n",
        "tiger      0   0   0   1\n"
       ]
      }
     ],
     "prompt_number": 56
    },
    {
     "cell_type": "code",
     "collapsed": false,
     "input": [
      "def idf(docs):\n",
      "    \"\"\"Find inverse document frequecny series from a dictionry of doucmnets.\"\"\"\n",
      "    # This can be based on the output of function tfs\n",
      "    data = tfs(docs)\n",
      "    # n is the total number of documents\n",
      "    n = float(len(docs))\n",
      "    term = []\n",
      "    df = []\n",
      "    idf = []\n",
      "    for i,v in enumerate(data.index):\n",
      "        term.append(v)\n",
      "        # dfi is the number of documents in which term i occurs\n",
      "        # So just need to locate each row and see how many non-zero values there are\n",
      "        df.append(float(np.count_nonzero(data.iloc[i])))\n",
      "        # Then calculate the value of idf\n",
      "        idf.append(np.log(n/(1+df[-1])))\n",
      "    # Return a readable dataframe\n",
      "    return pd.DataFrame(idf, index = term, columns=['idf'])\n",
      "\n",
      "print idf(docs)"
     ],
     "language": "python",
     "metadata": {},
     "outputs": [
      {
       "output_type": "stream",
       "stream": "stdout",
       "text": [
        "               idf\n",
        "brown     0.287682\n",
        "dog       0.287682\n",
        "elephant  0.287682\n",
        "fox       0.287682\n",
        "jumps     0.693147\n",
        "lazy      0.693147\n",
        "lion      0.693147\n",
        "over      0.693147\n",
        "peacock   0.693147\n",
        "quick     0.693147\n",
        "the      -0.223144\n",
        "tiger     0.693147\n"
       ]
      }
     ],
     "prompt_number": 57
    },
    {
     "cell_type": "code",
     "collapsed": false,
     "input": [
      "def tf_idf(docs):\n",
      "    \"\"\"Return the product of the term-frequency and inverse document freqeucny.\"\"\"\n",
      "    termfreq = tfs(docs)\n",
      "    invdocfreq = idf(docs)\n",
      "    for i in range(len(termfreq)):\n",
      "        termfreq.ix[i] = termfreq.ix[i] * invdocfreq.ix[i,0]\n",
      "    return termfreq\n",
      "\n",
      "\n",
      "print tf_idf(docs)"
     ],
     "language": "python",
     "metadata": {},
     "outputs": [
      {
       "output_type": "stream",
       "stream": "stdout",
       "text": [
        "                s3        s2        s1        s4\n",
        "brown     0.000000  0.287682  0.287682  0.000000\n",
        "dog       0.287682  0.000000  0.000000  0.287682\n",
        "elephant  0.287682  0.000000  0.000000  0.287682\n",
        "fox       0.000000  0.287682  0.287682  0.000000\n",
        "jumps     0.000000  2.772589  0.000000  0.000000\n",
        "lazy      0.693147  0.000000  0.000000  0.000000\n",
        "lion      0.000000  0.000000  0.000000  0.693147\n",
        "over      0.000000  0.693147  0.000000  0.000000\n",
        "peacock   0.000000  0.000000  0.000000  0.693147\n",
        "quick     0.000000  0.000000  0.693147  0.000000\n",
        "the      -0.669431 -0.223144 -0.223144 -1.115718\n",
        "tiger     0.000000  0.000000  0.000000  0.693147\n"
       ]
      }
     ],
     "prompt_number": 58
    },
    {
     "cell_type": "markdown",
     "metadata": {},
     "source": [
      "**Exercise 3 (10 points)**. \n",
      "\n",
      "1. Write a function that takes a matrix $M$ and an integer $k$ as arguments, and reconstructs a reduced matrix using only the $k$ largest singular values. Use the `scipy.linagl.svd` function to perform the decomposition. This is the least squares approximation to the matrix $M$ in $k$ dimensions.\n",
      "\n",
      "2. Apply the function you just wrote to the following term-frequency matrix for a set of $9$ documents using $k=2$ and print the reconstructed matrix $M'$.\n",
      "```\n",
      "M = np.array([[1, 0, 0, 1, 0, 0, 0, 0, 0],\n",
      "       [1, 0, 1, 0, 0, 0, 0, 0, 0],\n",
      "       [1, 1, 0, 0, 0, 0, 0, 0, 0],\n",
      "       [0, 1, 1, 0, 1, 0, 0, 0, 0],\n",
      "       [0, 1, 1, 2, 0, 0, 0, 0, 0],\n",
      "       [0, 1, 0, 0, 1, 0, 0, 0, 0],\n",
      "       [0, 1, 0, 0, 1, 0, 0, 0, 0],\n",
      "       [0, 0, 1, 1, 0, 0, 0, 0, 0],\n",
      "       [0, 1, 0, 0, 0, 0, 0, 0, 1],\n",
      "       [0, 0, 0, 0, 0, 1, 1, 1, 0],\n",
      "       [0, 0, 0, 0, 0, 0, 1, 1, 1],\n",
      "       [0, 0, 0, 0, 0, 0, 0, 1, 1]])\n",
      "```\n",
      "\n",
      "3. Calculate the pairwise correlation matrix for the original matrix M and the reconstructed matrix using $k=2$ singular values (you may use [scipy.stats.spearmanr](http://docs.scipy.org/doc/scipy/reference/generated/scipy.stats.spearmanr.html) to do the calculations). Consider the fist 5 sets of documents as one group $G1$ and the last 4 as another group $G2$ (i.e. first 5 and last 4 columns). What is the average within group correlation for $G1$, $G2$ and the average cross-group correlation for G1-G2 using either $M$ or $M'$. (Do not include self-correlation in the within-group calculations.)."
     ]
    },
    {
     "cell_type": "code",
     "collapsed": false,
     "input": [
      "# Your code here\n",
      "import scipy\n",
      "from sparsesvd import sparsesvd \n",
      "from scipy.sparse import csc_matrix\n",
      "\n",
      "# 1) Regular svd version (scipy.linagl.svd)\n",
      "def re_regular(M, k):\n",
      "    S = np.zeros((M.shape[0], M.shape[1]))\n",
      "    U, s, V = scipy.linalg.svd(M)\n",
      "    S[:len(s), :len(s)] = np.diag(s)\n",
      "    return np.dot(U[:,0:k], np.dot(S[0:k, 0:k], V[0:k,:]))\n",
      "\n",
      "# 2) Sparse svd version\n",
      "def re_sparse(M, k):\n",
      "    ut, s, vt = sparsesvd(csc_matrix(M), k)\n",
      "    return np.dot(ut.T, np.dot(np.diag(s), vt))\n"
     ],
     "language": "python",
     "metadata": {},
     "outputs": [],
     "prompt_number": 59
    },
    {
     "cell_type": "code",
     "collapsed": false,
     "input": [
      "M = np.array([[1, 0, 0, 1, 0, 0, 0, 0, 0],\n",
      "    [1, 0, 1, 0, 0, 0, 0, 0, 0],\n",
      "    [1, 1, 0, 0, 0, 0, 0, 0, 0],\n",
      "    [0, 1, 1, 0, 1, 0, 0, 0, 0],\n",
      "    [0, 1, 1, 2, 0, 0, 0, 0, 0],\n",
      "    [0, 1, 0, 0, 1, 0, 0, 0, 0],\n",
      "    [0, 1, 0, 0, 1, 0, 0, 0, 0],\n",
      "    [0, 0, 1, 1, 0, 0, 0, 0, 0],\n",
      "    [0, 1, 0, 0, 0, 0, 0, 0, 1],\n",
      "    [0, 0, 0, 0, 0, 1, 1, 1, 0],\n",
      "    [0, 0, 0, 0, 0, 0, 1, 1, 1],\n",
      "    [0, 0, 0, 0, 0, 0, 0, 1, 1]])\n",
      "\n",
      "reMregular = re_regular(M, 2)\n",
      "reMsparse = re_sparse(M, 2)\n",
      "\n",
      "print \"Reconstructed matrix M' by scipy.linagl.svd is:\", reMregular\n",
      "print \"Reconstructed matrix M' by sparsesvd is:\", reMsparse\n",
      "\n",
      "print \"Is the two methods return the same results?\", np.allclose(reMregular, reMsparse)"
     ],
     "language": "python",
     "metadata": {},
     "outputs": [
      {
       "output_type": "stream",
       "stream": "stdout",
       "text": [
        "Reconstructed matrix M' by scipy.linagl.svd is: [[ 0.162  0.400  0.379  0.468  0.176 -0.053 -0.115 -0.159 -0.092]\n",
        " [ 0.141  0.370  0.329  0.400  0.165 -0.033 -0.071 -0.097 -0.043]\n",
        " [ 0.152  0.505  0.358  0.410  0.236  0.024  0.060  0.087  0.124]\n",
        " [ 0.258  0.841  0.606  0.697  0.392  0.033  0.083  0.122  0.187]\n",
        " [ 0.449  1.234  1.051  1.266  0.556 -0.074 -0.155 -0.210 -0.049]\n",
        " [ 0.160  0.582  0.375  0.417  0.277  0.056  0.132  0.189  0.217]\n",
        " [ 0.160  0.582  0.375  0.417  0.277  0.056  0.132  0.189  0.217]\n",
        " [ 0.218  0.550  0.511  0.628  0.243 -0.065 -0.143 -0.197 -0.108]\n",
        " [ 0.097  0.532  0.230  0.212  0.267  0.137  0.315  0.444  0.425]\n",
        " [-0.061  0.232 -0.139 -0.266  0.145  0.240  0.546  0.767  0.664]\n",
        " [-0.065  0.335 -0.146 -0.301  0.203  0.306  0.695  0.977  0.849]\n",
        " [-0.043  0.254 -0.097 -0.208  0.152  0.221  0.503  0.707  0.616]]\n",
        "Reconstructed matrix M' by sparsesvd is: [[ 0.162  0.400  0.379  0.468  0.176 -0.053 -0.115 -0.159 -0.092]\n",
        " [ 0.141  0.370  0.329  0.400  0.165 -0.033 -0.071 -0.097 -0.043]\n",
        " [ 0.152  0.505  0.358  0.410  0.236  0.024  0.060  0.087  0.124]\n",
        " [ 0.258  0.841  0.606  0.697  0.392  0.033  0.083  0.122  0.187]\n",
        " [ 0.449  1.234  1.051  1.266  0.556 -0.074 -0.155 -0.210 -0.049]\n",
        " [ 0.160  0.582  0.375  0.417  0.277  0.056  0.132  0.189  0.217]\n",
        " [ 0.160  0.582  0.375  0.417  0.277  0.056  0.132  0.189  0.217]\n",
        " [ 0.218  0.550  0.511  0.628  0.243 -0.065 -0.143 -0.197 -0.108]\n",
        " [ 0.097  0.532  0.230  0.212  0.267  0.137  0.315  0.444  0.425]\n",
        " [-0.061  0.232 -0.139 -0.266  0.145  0.240  0.546  0.767  0.664]\n",
        " [-0.065  0.335 -0.146 -0.301  0.203  0.306  0.695  0.977  0.849]\n",
        " [-0.043  0.254 -0.097 -0.208  0.152  0.221  0.503  0.707  0.616]]\n",
        "Is the two methods return the same results? True\n"
       ]
      }
     ],
     "prompt_number": 60
    },
    {
     "cell_type": "code",
     "collapsed": false,
     "input": [
      "import scipy.stats as st\n",
      "rhoorig, pvalorig = st.spearmanr(M)\n",
      "print \"Pairwise correlation matrix for the original matrix M is\", rhoorig\n",
      "\n",
      "rhorecon, pvalrecon = st.spearmanr(reMregular)\n",
      "print \"Pairwise correlation matrix for the reconstructed matrix M' is\", rhorecon"
     ],
     "language": "python",
     "metadata": {},
     "outputs": [
      {
       "output_type": "stream",
       "stream": "stdout",
       "text": [
        "Pairwise correlation matrix for the original matrix M is [[ 1.000 -0.192  0.000  0.073 -0.333 -0.174 -0.258 -0.333 -0.333]\n",
        " [-0.192  1.000  0.000 -0.127  0.577 -0.302 -0.447 -0.577 -0.192]\n",
        " [ 0.000  0.000  1.000  0.438  0.000 -0.213 -0.316 -0.408 -0.408]\n",
        " [ 0.073 -0.127  0.438  1.000 -0.330 -0.172 -0.256 -0.330 -0.330]\n",
        " [-0.333  0.577  0.000 -0.330  1.000 -0.174 -0.258 -0.333 -0.333]\n",
        " [-0.174 -0.302 -0.213 -0.172 -0.174  1.000  0.674  0.522 -0.174]\n",
        " [-0.258 -0.447 -0.316 -0.256 -0.258  0.674  1.000  0.775  0.258]\n",
        " [-0.333 -0.577 -0.408 -0.330 -0.333  0.522  0.775  1.000  0.556]\n",
        " [-0.333 -0.192 -0.408 -0.330 -0.333 -0.174  0.258  0.556  1.000]]\n",
        "Pairwise correlation matrix for the reconstructed matrix M' is [[ 1.000  0.846  1.000  0.998  0.719 -0.837 -0.837 -0.837 -0.802]\n",
        " [ 0.846  1.000  0.846  0.844  0.972 -0.557 -0.557 -0.557 -0.480]\n",
        " [ 1.000  0.846  1.000  0.998  0.719 -0.837 -0.837 -0.837 -0.802]\n",
        " [ 0.998  0.844  0.998  1.000  0.718 -0.839 -0.839 -0.839 -0.804]\n",
        " [ 0.719  0.972  0.719  0.718  1.000 -0.389 -0.389 -0.389 -0.298]\n",
        " [-0.837 -0.557 -0.837 -0.839 -0.389  1.000  1.000  1.000  0.979]\n",
        " [-0.837 -0.557 -0.837 -0.839 -0.389  1.000  1.000  1.000  0.979]\n",
        " [-0.837 -0.557 -0.837 -0.839 -0.389  1.000  1.000  1.000  0.979]\n",
        " [-0.802 -0.480 -0.802 -0.804 -0.298  0.979  0.979  0.979  1.000]]\n"
       ]
      }
     ],
     "prompt_number": 61
    },
    {
     "cell_type": "code",
     "collapsed": false,
     "input": [
      "oriG1 = M[:,:5] \n",
      "oriG2 = M[:,5:]\n",
      "recoG1 = reMregular[:,:5] \n",
      "recoG2 = reMregular[:,5:] \n",
      "# average within group correlation for G1, G2\n",
      "r1, p1 = st.spearmanr(oriG1)\n",
      "# Reshape the correlation matrix into a lower triangle matrix without diagnol values\n",
      "# such that the self-correlation is not included and correlation is not duplicated\n",
      "lowertri_r1 = np.tril(r1,-1)\n",
      "# Calculate the within group correlation for G1 (original M)\n",
      "# ((r1.shape[0] ** 2 - r1.shape[0])/2) is the total number of correlation values\n",
      "withincorG1or = lowertri_r1.sum()/((r1.shape[0] ** 2 - r1.shape[0])/2)\n",
      "\n",
      "r2, p2 = st.spearmanr(oriG2)\n",
      "lowertri_r2 = np.tril(r2,-1)\n",
      "withincorG2or = lowertri_r2.sum()/((r2.shape[0] ** 2 - r2.shape[0])/2)\n",
      "\n",
      "r3, p3 = st.spearmanr(recoG1)\n",
      "lowertri_r3 = np.tril(r3,-1)\n",
      "withincorG1re = lowertri_r3.sum()/((r3.shape[0] ** 2 - r3.shape[0])/2)\n",
      "\n",
      "r4, p4 = st.spearmanr(recoG2)\n",
      "lowertri_r4 = np.tril(r4,-1)\n",
      "withincorG2re = lowertri_r4.sum()/((r4.shape[0] ** 2 - r4.shape[0])/2)\n",
      "\n",
      "print \"Within group correlation for G1 (original M) is\", withincorG1or\n",
      "print \"Within group correlation for G2 (original M) is\", withincorG2or\n",
      "\n",
      "print \"Within group correlation for G1 (reduced M) is\", withincorG1re\n",
      "print \"Within group correlation for G2 (reduced M) is\", withincorG2re"
     ],
     "language": "python",
     "metadata": {},
     "outputs": [
      {
       "output_type": "stream",
       "stream": "stdout",
       "text": [
        "Within group correlation for G1 (original M) is 0.0105776866299\n",
        "Within group correlation for G2 (original M) is 0.43511771482\n",
        "Within group correlation for G1 (reduced M) is 0.866042884512\n",
        "Within group correlation for G2 (reduced M) is 0.98951048951\n"
       ]
      }
     ],
     "prompt_number": 62
    },
    {
     "cell_type": "code",
     "collapsed": false,
     "input": [
      "# the average cross-group correlation for G1-G2 \n",
      "# Just need to select one part of the pairwise correlation matrix (the first 5 rows with the last 4 columns)\n",
      "# And calculate the average\n",
      "print \"Average cross-group correlation for G1-G2 (original M) is\", rhoorig[:5, 5:].sum()/(rhoorig[:5, 5:].shape[0]*rhoorig[:5, 5:].shape[1])\n",
      "print \"Average cross-group correlation for G1-G2 (reduced M) is\", rhorecon[:5, 5:].sum()/(rhorecon[:5, 5:].shape[0]*rhorecon[:5, 5:].shape[1])"
     ],
     "language": "python",
     "metadata": {},
     "outputs": [
      {
       "output_type": "stream",
       "stream": "stdout",
       "text": [
        "Average cross-group correlation for G1-G2 (original M) is -0.307562188906\n",
        "Average cross-group correlation for G1-G2 (reduced M) is -0.678168764439\n"
       ]
      }
     ],
     "prompt_number": 63
    },
    {
     "cell_type": "markdown",
     "metadata": {},
     "source": [
      "**Exercise 4 (20 points)**. Clustering with LSA\n",
      "\n",
      "1. Begin by loading a pubmed database of selected article titles using 'cPickle'. With the following:\n",
      "```import cPickle\n",
      "docs = cPickle.load(open('pubmed.pic'))```\n",
      "\n",
      "    Create a tf-idf matrix for every term that appears at least once in any of the documents. What is the shape of the tf-idf matrix? \n",
      "\n",
      "2. Perform SVD on the tf-idf matrix to obtain $U \\Sigma V^T$ (often written as $T \\Sigma D^T$ in this context with $T$ representing the terms and $D$ representing the documents). If we set all but the top $k$ singular values to 0, the reconstructed matrix is essentially $U_k \\Sigma_k V_k^T$, where $U_k$ is $m \\times k$, $\\Sigma_k$ is $k \\times k$ and $V_k^T$ is $k \\times n$. Terms in this reduced space are represented by $U_k \\Sigma_k$ and documents by $\\Sigma_k V^T_k$. Reconstruct the matrix using the first $k=10$ singular values.\n",
      "\n",
      "3. Use agglomerative hierachical clustering with complete linkage to plot a dendrogram and comment on the likely number of  document clusters with $k = 100$. Use the dendrogram function from [SciPy ](https://docs.scipy.org/doc/scipy-0.15.1/reference/generated/scipy.cluster.hierarchy.dendrogram.html).\n",
      "\n",
      "4. Determine how similar each of the original documents is to the new document `mystery.txt`. Since $A = U \\Sigma V^T$, we also have $V = A^T U S^{-1}$ using orthogonality and the rule for transposing matrix products. This suggests that in order to map the new document to the same concept space, first find the tf-idf vector $v$ for the new document - this must contain all (and only) the terms present in the existing tf-idx matrix. Then the query vector $q$ is given by $v^T U_k \\Sigma_k^{-1}$. Find the 10 documents most similar to the new document and the 10 most dissimilar. \n",
      "\n",
      "5. Many documents often have some boilerplate material such as organization information, Copyright, etc. at the front or back of the document. Does it matter that the front and back matter of each document is essentially identical for either LSA-based clustering (part 3) or information retrieval (part 4)? Why or why not?"
     ]
    },
    {
     "cell_type": "code",
     "collapsed": false,
     "input": [
      "# your code here\n",
      "# 1) \n",
      "import cPickle\n",
      "docs = cPickle.load(open('pubmed.pic'))\n",
      "\n",
      "tf_idf_matrix = tf_idf(docs)\n",
      "\n",
      "print \"The shape of the tf-idf matrix is\", tf_idf_matrix.shape"
     ],
     "language": "python",
     "metadata": {},
     "outputs": [
      {
       "output_type": "stream",
       "stream": "stdout",
       "text": [
        "The shape of the tf-idf matrix is (6489, 178)\n"
       ]
      }
     ],
     "prompt_number": 64
    },
    {
     "cell_type": "code",
     "collapsed": false,
     "input": [
      "# 2)\n",
      "reduced = re_sparse(tf_idf_matrix, 10)\n",
      "print reduced\n",
      "print reduced.shape"
     ],
     "language": "python",
     "metadata": {},
     "outputs": [
      {
       "output_type": "stream",
       "stream": "stdout",
       "text": [
        "[[ 0.399  0.670  0.985 ...,  0.279  0.683  0.573]\n",
        " [ 0.090  0.142  0.067 ..., -0.260  0.049  0.058]\n",
        " [ 0.007  0.027  0.013 ...,  0.084  0.014  0.005]\n",
        " ..., \n",
        " [ 0.009  0.019  0.016 ...,  0.007  0.005  0.009]\n",
        " [ 0.043  0.109  0.081 ...,  0.166  0.042  0.039]\n",
        " [ 0.010  0.025  0.019 ...,  0.017  0.008  0.010]]\n",
        "(6489, 178)\n"
       ]
      }
     ],
     "prompt_number": 65
    },
    {
     "cell_type": "code",
     "collapsed": false,
     "input": [
      "# 3) \n",
      "from scipy.cluster.hierarchy import dendrogram\n",
      "from scipy.cluster.hierarchy import linkage\n",
      "from scipy.spatial.distance import pdist,squareform\n",
      "\n",
      "# Using K =100 to reduce tf_idf matrix\n",
      "reduced100 = re_sparse(tf_idf_matrix, 100)\n",
      "print reduced100.shape\n",
      "\n",
      "# First derive the pair-wise distance matrix for reduced tf_idf matrix\n",
      "dist = pd.DataFrame(squareform(pdist(reduced100.T, metric='euclidean')))\n",
      "\n",
      "# Then get the complete linkage matrix using distance matrix\n",
      "clusters = linkage(dist, method='complete')\n",
      "clustersdata = pd.DataFrame(clusters, columns=['1', '2', 'distance between 1&2', '#. of items in clusterer'], index=['cluster %d' %(i+1) for i in range(clusters.shape[0])])\n",
      "print \"The number of document clusters with k=100 is\", clustersdata.shape[0]\n",
      "print clustersdata\n",
      "dendplot = dendrogram(clusters)\n"
     ],
     "language": "python",
     "metadata": {},
     "outputs": [
      {
       "output_type": "stream",
       "stream": "stdout",
       "text": [
        "(6489, 178)\n",
        "The number of document clusters with k=100 is"
       ]
      },
      {
       "output_type": "stream",
       "stream": "stdout",
       "text": [
        " 177\n",
        "               1    2  distance between 1&2  #. of items in clusterer\n",
        "cluster 1     33  124              9.149393                         2\n",
        "cluster 2     56  178             11.652426                         3\n",
        "cluster 3     11  163             13.008313                         2\n",
        "cluster 4    122  176             14.464237                         2\n",
        "cluster 5    136  180             14.640553                         3\n",
        "cluster 6      8   10             15.485192                         2\n",
        "cluster 7    181  183             17.230629                         4\n",
        "cluster 8     67   79             17.808536                         2\n",
        "cluster 9      7  179             17.847875                         4\n",
        "cluster 10     4  104             19.261548                         2\n",
        "cluster 11    35  173             19.568476                         2\n",
        "cluster 12    64  182             21.659020                         4\n",
        "cluster 13    27  187             22.359677                         3\n",
        "cluster 14    92  188             24.239125                         3\n",
        "cluster 15   170  185             24.443315                         3\n",
        "cluster 16    60  114             24.504069                         2\n",
        "cluster 17   189  190             24.881413                         7\n",
        "cluster 18    13  141             25.281542                         2\n",
        "cluster 19   140  142             25.289024                         2\n",
        "cluster 20   192  194             27.690593                        10\n",
        "cluster 21    91  111             28.136967                         2\n",
        "cluster 22   184  186             28.279169                         8\n",
        "cluster 23    12  174             29.057706                         2\n",
        "cluster 24    19  193             31.313004                         3\n",
        "cluster 25    25   86             31.726536                         2\n",
        "cluster 26   191  197             31.864160                        13\n",
        "cluster 27    66  195             32.409529                         3\n",
        "cluster 28   138  196             32.897835                         3\n",
        "cluster 29   200  201             33.343734                         5\n",
        "cluster 30   199  203             35.442371                        21\n",
        "...          ...  ...                   ...                       ...\n",
        "cluster 148  267  297            178.736138                        20\n",
        "cluster 149   69  317            179.510911                         3\n",
        "cluster 150  307  315            181.485642                        20\n",
        "cluster 151   48  144            183.963454                         2\n",
        "cluster 152  150  175            184.106271                         2\n",
        "cluster 153  324  326            185.975454                        13\n",
        "cluster 154   62  131            188.114304                         2\n",
        "cluster 155  328  331            189.074934                         4\n",
        "cluster 156  304  327            189.260882                        37\n",
        "cluster 157   72  332            191.758080                         5\n",
        "cluster 158  153  154            195.070708                         2\n",
        "cluster 159  329  335            196.895767                         4\n",
        "cluster 160  276  314            199.314590                        17\n",
        "cluster 161  143  336            203.610028                         5\n",
        "cluster 162   41  338            210.919093                         6\n",
        "cluster 163  330  334            228.753432                        18\n",
        "cluster 164   21  130            233.119267                         2\n",
        "cluster 165   47   96            270.264194                         2\n",
        "cluster 166  325  333            270.585093                        57\n",
        "cluster 167  269  292            272.217869                        72\n",
        "cluster 168  339  341            288.278212                         8\n",
        "cluster 169   52  105            300.264258                         2\n",
        "cluster 170  108  346            327.746802                         3\n",
        "cluster 171  342  347            393.698045                         5\n",
        "cluster 172  340  343            414.833645                        75\n",
        "cluster 173  337  344            423.852792                        89\n",
        "cluster 174  345  349            640.856445                        83\n",
        "cluster 175   54  348            912.339167                         6\n",
        "cluster 176  350  351           1047.862135                       172\n",
        "cluster 177  352  353           2136.903388                       178\n",
        "\n",
        "[177 rows x 4 columns]\n"
       ]
      },
      {
       "metadata": {},
       "output_type": "display_data",
       "png": "[encoded data removed]",
       "text": [
        "<matplotlib.figure.Figure at 0x7f55fe40af90>"
       ]
      }
     ],
     "prompt_number": 66
    },
    {
     "cell_type": "code",
     "collapsed": false,
     "input": [
      "# 4) \n",
      "# Open new document\n",
      "m = open(\"mystery.txt\").read().replace('-',' ').translate(None, string.punctuation).lower().split()\n",
      "# Find the index in original tf_idf_matrix\n",
      "ind = list(tf_idf_matrix.index)\n",
      "# make sure that the tf of new document contains all (and only) the \n",
      "# terms present in the existing matrix.\n",
      "newtfini = [x for x in m if x in ind]\n",
      "\n",
      "newtf = pd.DataFrame(index=ind,columns=['mystery']).fillna(0)\n",
      "for i in newtfini:\n",
      "    newtf.loc[i] = newtf.loc[i] + 1\n",
      "\n",
      "# find the tf-idf vector for the new document\n",
      "# Slightly change the tf-idf function\n",
      "def tf_idf(docs):\n",
      "    termfreq = pd.DataFrame(newtf)\n",
      "    invdocfreq = idf(docs)\n",
      "    for i in range(len(termfreq)):\n",
      "        termfreq.ix[i] = termfreq.ix[i] * invdocfreq.ix[i,0]\n",
      "    return termfreq\n",
      "\n",
      "# Now we can get the tf-idf vector for the new document\n",
      "tf_idf_new_vec = tf_idf(docs)\n",
      "print newtf.shape\n",
      "print tf_idf_new_vec.shape\n",
      "print tf_idf_new_vec\n"
     ],
     "language": "python",
     "metadata": {},
     "outputs": [
      {
       "output_type": "stream",
       "stream": "stdout",
       "text": [
        "(6489, 1)\n",
        "(6489, 1)\n",
        "                      mystery\n",
        "                     0.000000\n",
        "0                    0.000000\n",
        "0000028              0.000000\n",
        "00001                0.000000\n",
        "0001                 0.000000\n",
        "00011                0.000000\n",
        "00013                0.000000\n",
        "0002                 0.000000\n",
        "00022                0.000000\n",
        "0003                 0.000000\n",
        "0008                 0.000000\n",
        "0009                 0.000000\n",
        "001                  0.000000\n",
        "0017                 0.000000\n",
        "002                  0.000000\n",
        "0023                 0.000000\n",
        "0026                 0.000000\n",
        "003                  0.000000\n",
        "00352                0.000000\n",
        "004                  0.000000\n",
        "0047                 0.000000\n",
        "0048                 0.000000\n",
        "005                  0.000000\n",
        "006                  0.000000\n",
        "01                   0.000000\n",
        "013                  0.000000\n",
        "014                  0.000000\n",
        "015                  0.000000\n",
        "016                  0.000000\n",
        "017                  0.000000\n",
        "...                       ...\n",
        "would                0.000000\n",
        "wound                0.000000\n",
        "wst                  0.000000\n",
        "wt                   0.000000\n",
        "wwwisrctncom         0.000000\n",
        "x                    0.000000\n",
        "x109l                0.000000\n",
        "xcd4cre              0.000000\n",
        "xenogenic            0.000000\n",
        "xenotransplantation  0.000000\n",
        "xxx                  0.000000\n",
        "xylulose             0.000000\n",
        "y                    0.000000\n",
        "yahr                 0.000000\n",
        "yd                   0.000000\n",
        "year                 2.783888\n",
        "yearbooks            0.000000\n",
        "years                5.548737\n",
        "yet                  0.000000\n",
        "yield                0.000000\n",
        "yielded              0.000000\n",
        "yl                   0.000000\n",
        "ymca                 0.000000\n",
        "yoelii               0.000000\n",
        "young                0.000000\n",
        "younger              0.000000\n",
        "youth                0.000000\n",
        "youths               0.000000\n",
        "zno                  0.000000\n",
        "zoo                  0.000000\n",
        "\n",
        "[6489 rows x 1 columns]\n"
       ]
      }
     ],
     "prompt_number": 68
    },
    {
     "cell_type": "code",
     "collapsed": false,
     "input": [
      "# Sparse SVD\n",
      "# Note that I'm confused about where to use K=10 OR K=100 for this question\n",
      "# So I just use K=10 AND the results would be different for K=100\n",
      "# But the logic is just like this\n",
      "U, s, V = sparsesvd(csc_matrix(tf_idf_matrix),100)\n",
      "q = tf_idf_new_vec.T.dot(U.T).dot(np.linalg.inv(np.diag(s))).T\n",
      "C = tf_idf_matrix.T.dot(U.T).dot(np.linalg.inv(np.diag(s))).T\n",
      "C['mystery'] = q\n",
      "C = np.array(C)\n",
      "# Find the 10 documents most similar to the new document and the 10 most dissimilar\n",
      "cosine_similarity = 1 - distance_looping_column(C, cosine)\n",
      "cosine_similarity = cosine_similarity[cosine_similarity.shape[0] - 1, :cosine_similarity.shape[0] - 1]\n",
      "cosine_similarity = pd.DataFrame(cosine_similarity, index = list(tf_idf_matrix.columns), columns = ['cosine_similarity']).sort(['cosine_similarity'], ascending = False)\n",
      "sim = list(cosine_similarity.index)\n",
      "\n",
      "most_sim = sim[:10]\n",
      "most_dissim = sim[-10:]\n",
      "print \"The 10 documents most similar to the new document are\", most_sim\n",
      "print \"The 10 documents most dissimilar to the new document are\", most_dissim"
     ],
     "language": "python",
     "metadata": {},
     "outputs": [
      {
       "output_type": "stream",
       "stream": "stdout",
       "text": [
        "The 10 documents most similar to the new document are ['Diabetes Numeracy and Blood Glucose Control: Association With Type of Diabetes and Source of Care.', 'Feasibility of the SMART Project: A Text Message Program for Adolescents With Type 1 Diabetes.', 'Health Care Utilization Among U.S. Adults With Diagnosed Diabetes, 2013.', 'Outcomes of a Diabetes Education Program for Registered Nurses Caring for Individuals With Diabetes.', 'Effect of Self-Efficacy on Weight Loss: A Psychosocial Analysis of a Community-Based Adaptation of the Diabetes Prevention Program Lifestyle Intervention.', '\"Living Well with Diabetes\": Evaluation of a Pilot Program to Promote Diabetes Prevention and Self-Management in a Medically Underserved Community.', 'Efficacy and Safety of Saxagliptin as Add-On Therapy in Type 2 Diabetes.', 'Prevalence and Determinants of Anemia in Older People With Diabetes Attending an Outpatient Clinic: A Cross-Sectional Audit.', 'Disparities in Postpartum Follow-Up in Women With Gestational Diabetes Mellitus.', 'Demographic Disparities Among Medicare Beneficiaries with Type 2 Diabetes Mellitus in 2011: Diabetes Prevalence, Comorbidities, and Hypoglycemia Events.']\n",
        "The 10 documents most dissimilar to the new document are ['Avian haemosporidians from Neotropical highlands: Evidence from morphological and molecular data.', 'Improving Lateral-Flow Immunoassay (LFIA) Diagnostics via Biomarker Enrichment for mHealth.', 'Cerebral malaria as a risk factor for the development of epilepsy and other long-term neurological conditions: a meta-analysis.', 'CD4 T-cell subsets in malaria: TH1/TH2 revisited.', 'Nerve Growth Factor Potentiates Nicotinic Synaptic Transmission in Mouse Airway Parasympathetic Neurons.', 'In situ hybridization and sequence analysis reveal an association of Plasmodium spp. with mortalities in wild passerine birds in Austria.', 'Crystal Structures of the Carboxyl cGMP Binding Domain of the Plasmodium falciparum cGMP-dependent Protein Kinase Reveal a Novel Capping Triad Crucial for Merozoite Egress.', 'Antibodies to the Plasmodium falciparum proteins MSPDBL1 and MSPDBL2 opsonise merozoites, inhibit parasite growth and predict protection from clinical malaria.', 'IRGM3 contributes to immunopathology and is required for differentiation of antigen-specific effector CD8+ T cells in experimental cerebral malaria.', 'CD40 Is Required for Protective Immunity against Liver Stage Plasmodium Infection.']\n"
       ]
      }
     ],
     "prompt_number": 70
    },
    {
     "cell_type": "code",
     "collapsed": false,
     "input": [
      "# 5) \n",
      "print \"So the boilerplate materials do have something to do with LSA-based clustering and information retrieval, and the documents with same boilerplate materials tend to be clustered together, while new document will show bias towards those documents that have same boilerplate materials, but I think this effect is small at least for the documents we are handling here, cuz the boilerplate materials have smaller length than the remaining contents.\" "
     ],
     "language": "python",
     "metadata": {},
     "outputs": []
    },
    {
     "cell_type": "markdown",
     "metadata": {},
     "source": [
      "Notes on the Pubmed articles\n",
      "----\n",
      "\n",
      "These were downloaded with the following script.\n",
      "\n",
      "```python\n",
      "from Bio import Entrez, Medline\n",
      "Entrez.email = \"YOUR EMAIL HERE\"\n",
      "import cPickle\n",
      "\n",
      "try:\n",
      "    docs = cPickle.load(open('pubmed.pic'))\n",
      "except Exception, e:\n",
      "    print e\n",
      "\n",
      "    docs = {}\n",
      "    for term in ['plasmodium', 'diabetes', 'asthma', 'cytometry']:\n",
      "        handle = Entrez.esearch(db=\"pubmed\", term=term, retmax=50)\n",
      "        result = Entrez.read(handle)\n",
      "        handle.close()\n",
      "        idlist = result[\"IdList\"]\n",
      "        handle2 = Entrez.efetch(db=\"pubmed\", id=idlist, rettype=\"medline\", retmode=\"text\")\n",
      "        result2 = Medline.parse(handle2)\n",
      "        for record in result2:\n",
      "            title = record.get(\"TI\", None)\n",
      "            abstract = record.get(\"AB\", None)\n",
      "            if title is None or abstract is None:\n",
      "                continue\n",
      "            docs[title] = '\\n'.join([title, abstract])\n",
      "            print title\n",
      "        handle2.close()\n",
      "    cPickle.dump(docs, open('pubmed.pic', 'w'))\n",
      "docs.values()\n",
      "```"
     ]
    }
   ],
   "metadata": {}
  }
 ]
}